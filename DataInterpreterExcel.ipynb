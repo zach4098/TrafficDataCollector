{
 "cells": [
  {
   "cell_type": "code",
   "execution_count": 381,
   "metadata": {},
   "outputs": [],
   "source": [
    "import os\n",
    "from openpyxl import Workbook, load_workbook\n",
    "from openpyxl.utils import get_column_letter\n",
    "from openpyxl.styles import Font"
   ]
  },
  {
   "cell_type": "code",
   "execution_count": 382,
   "metadata": {},
   "outputs": [],
   "source": [
    "def ReadTime(text):\n",
    "    time = text.split('-')[1].split(' ')[3].split(':')\n",
    "    return time"
   ]
  },
  {
   "cell_type": "code",
   "execution_count": 383,
   "metadata": {},
   "outputs": [],
   "source": [
    "def TimeDifference(timeInit, timeFinal, vehicleCount, leftCount, rightCount):\n",
    "    initHour = int(timeInit[0])\n",
    "    initMinute = int(timeInit[1])\n",
    "    initSecond = int(timeInit[2])\n",
    "\n",
    "    finalHour = int(timeFinal[0])\n",
    "    finalMinute = int(timeFinal[1])\n",
    "    finalSecond = int(timeFinal[2])\n",
    "\n",
    "    differenceInHours = finalHour-initHour\n",
    "    differenceInMinutes = finalMinute - initMinute\n",
    "    differenceInSeconds = finalSecond - initSecond\n",
    "\n",
    "    if differenceInMinutes < 0:\n",
    "        differenceInHours -= 1\n",
    "        differenceInMinutes += 60\n",
    "    if differenceInSeconds < 0:\n",
    "        differenceInMinutes -= 1\n",
    "        differenceInSeconds += 60\n",
    "    \n",
    "    totalHours = differenceInHours + (differenceInMinutes/60) + (differenceInSeconds/3600)\n",
    "    totalHours = round(totalHours, 5)\n",
    "    \n",
    "    VperHour = round(vehicleCount/totalHours)\n",
    "    VperHrL = round(leftCount/totalHours)\n",
    "    VperHrR = round(rightCount/totalHours)\n",
    "\n",
    "\n",
    "    return differenceInHours, differenceInMinutes, differenceInSeconds, totalHours, VperHour, VperHrL, VperHrR"
   ]
  },
  {
   "cell_type": "code",
   "execution_count": 384,
   "metadata": {},
   "outputs": [],
   "source": [
    "def CountLeftRight(List):\n",
    "    leftCount = 0\n",
    "    rightCount = 0\n",
    "    nullCount = 0\n",
    "    for item in List:\n",
    "        direction = item.split('-')[2]\n",
    "        if direction == \"left\":\n",
    "            leftCount += 1\n",
    "        elif direction == \"right\":\n",
    "            rightCount += 1\n",
    "        else:\n",
    "            nullCount += 1\n",
    "    return leftCount, rightCount, nullCount"
   ]
  },
  {
   "cell_type": "code",
   "execution_count": 385,
   "metadata": {},
   "outputs": [],
   "source": [
    "def ReadFile(folder, file):\n",
    "    \n",
    "    with open(\"{}/{}\".format(folder, file), \"r\") as f:\n",
    "            lines = f.readlines()\n",
    "    count = 0\n",
    "    for item in lines:\n",
    "        item = item.replace(\"\\n\", \"\")\n",
    "        item = item.replace(\"Vehicle \", \"\")\n",
    "        lines[count] = item\n",
    "        count += 1\n",
    "    totalVehicles = count\n",
    "    totalLeft, totalRight, totalNull = CountLeftRight(lines)\n",
    "    lineInit = lines[0]\n",
    "    lineFinal = lines[count - 1]\n",
    "    timeInit = ReadTime(lineInit)\n",
    "    timeFinal = ReadTime(lineFinal)\n",
    "    differenceHour, differenceMinute, differenceSecond, totalHours, vPerHour, vPerHourL, vPerHourR = TimeDifference(timeInit, timeFinal, totalVehicles, totalLeft, totalRight)\n",
    "\n",
    "    wb = load_workbook(\"DataSpread/data.xlsx\")\n",
    "    ws = wb.active\n",
    "    currentRow = 2\n",
    "    openRow = False\n",
    "    while not openRow:\n",
    "        if str(ws.cell(currentRow, 1).value) == \"None\":\n",
    "            openRow = True\n",
    "        else:\n",
    "            currentRow += 1\n",
    "    ws.cell(currentRow, 1).value = file\n",
    "    ws.cell(currentRow, 2).value = \"{}:{}:{}\".format(timeInit[0], timeInit[1], timeInit[2])\n",
    "    ws.cell(currentRow, 3).value = \"{}:{}:{}\".format(timeFinal[0], timeFinal[1], timeFinal[2])\n",
    "    ws.cell(currentRow, 4).value = \"{}:{}:{}\".format(differenceHour, differenceMinute, differenceSecond)\n",
    "    ws.cell(currentRow, 5).value = totalVehicles\n",
    "    ws.cell(currentRow, 6).value = totalLeft\n",
    "    ws.cell(currentRow, 7).value = totalRight\n",
    "    ws.cell(currentRow, 8).value = totalNull\n",
    "    ws.cell(currentRow, 9).value = totalHours\n",
    "    ws.cell(currentRow, 10).value = vPerHour\n",
    "    ws.cell(currentRow, 11).value = vPerHourL\n",
    "    ws.cell(currentRow, 12).value = vPerHourR\n",
    "\n",
    "    wb.save(\"DataSpread/data.xlsx\")"
   ]
  },
  {
   "cell_type": "code",
   "execution_count": 386,
   "metadata": {},
   "outputs": [
    {
     "name": "stdout",
     "output_type": "stream",
     "text": [
      "Select File to Read:\n",
      "0: Data collected @ Thu Jul 13 11:42:59 2023.txt\n",
      "1: Data collected @ Thu Jul 13 11:16:53 2023.txt\n",
      "2: Data collected @ Thu Jul 13 11:38:25 2023.txt\n",
      "3: Data collected @ Fri Jul 13 11:58:59 2023 copy.txt\n",
      "4: Data collected @ Thu Jul 13 11:42:08 2023.txt\n",
      "\n",
      "Added a total of 5 datasets!\n"
     ]
    }
   ],
   "source": [
    "folder = input(\"Select Folder: \")\n",
    "collections = os.listdir(\"{}/\".format(folder))\n",
    "\n",
    "msg = \"Select File to Read:\\n\"\n",
    "count = 0\n",
    "for item in collections:\n",
    "    msg = msg + \"{}: {}\".format(count, str(item)) + \"\\n\"\n",
    "    count += 1\n",
    "print(msg)\n",
    "\n",
    "fileInput = input(\"Select File: \")\n",
    "\n",
    "if fileInput == \"all\":\n",
    "    count = 0\n",
    "    for i in collections:\n",
    "        ReadFile(folder, collections[count])\n",
    "        count += 1\n",
    "    print(\"Added a total of {} datasets!\".format(count))\n",
    "else:\n",
    "    file = collections[int(fileInput)]\n",
    "    ReadFile(folder, file)\n",
    "    print(\"Done!\")"
   ]
  }
 ],
 "metadata": {
  "kernelspec": {
   "display_name": "Python 3",
   "language": "python",
   "name": "python3"
  },
  "language_info": {
   "codemirror_mode": {
    "name": "ipython",
    "version": 3
   },
   "file_extension": ".py",
   "mimetype": "text/x-python",
   "name": "python",
   "nbconvert_exporter": "python",
   "pygments_lexer": "ipython3",
   "version": "3.11.3"
  },
  "orig_nbformat": 4
 },
 "nbformat": 4,
 "nbformat_minor": 2
}
